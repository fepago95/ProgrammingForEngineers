{
 "cells": [
  {
   "cell_type": "markdown",
   "metadata": {},
   "source": [
    "# Serie de Fourier"
   ]
  },
  {
   "cell_type": "markdown",
   "metadata": {},
   "source": [
    "Utilice la serie de Fourier continua para aproximar la función de onda cuadrada o rectangular. Para el cálculo del ejemplo se usará hasta 8 términos de la serie.\n",
    "\n",
    "<center><image src=\"Picture1.PNG\" alt=\"Functions that are defined piecewise\"></center>"
   ]
  },
  {
   "cell_type": "markdown",
   "metadata": {},
   "source": [
    "#### Calculo coeficiente an y bn\n",
    "\n",
    "* Para determinar las expresiones de los coeficientes, se usará la libreria Sympy que facilita el desarrollo de fórmulas simbólicas an y bn."
   ]
  },
  {
   "cell_type": "code",
   "execution_count": 15,
   "metadata": {},
   "outputs": [],
   "source": [
    "import numpy as np\n",
    "import sympy as sym\n",
    "import matplotlib.pyplot as plt"
   ]
  },
  {
   "cell_type": "code",
   "execution_count": 16,
   "metadata": {},
   "outputs": [],
   "source": [
    "# INGRESO\n",
    "T = 2*np.pi\n",
    "\n",
    "t = sym.Symbol('t')\n",
    "ft = sym.Piecewise((-1,t <-T/2),\n",
    "                   (-1,t <-T/4),\n",
    "                   ( 1,t < T/4),\n",
    "                   (-1,t < T/2),\n",
    "                   (-1,True),)\n",
    "\n",
    "# intervalo\n",
    "a = -T/2\n",
    "b = T/2\n",
    "\n",
    "# número de coeficientes\n",
    "nCoeficientes = 8"
   ]
  },
  {
   "cell_type": "code",
   "execution_count": 17,
   "metadata": {},
   "outputs": [
    {
     "name": "stdout",
     "output_type": "stream",
     "text": [
      "1.0\n",
      "⎧-1  for t < -3.14159265358979 ∨ t < -1.5707963267949\n",
      "⎪                                                    \n",
      "⎨1               for t < 1.5707963267949             \n",
      "⎪                                                    \n",
      "⎩-1                     otherwise                    \n"
     ]
    }
   ],
   "source": [
    "# PROCEDIMIENTO\n",
    "n  = sym.Symbol('n')\n",
    "w0 = 2*np.pi/T\n",
    "print(w0)\n",
    "sym.pprint(ft)\n",
    "\n",
    "# Términos an para coseno\n",
    "enintegral  = ft*sym.cos(n*w0*t)\n",
    "yaintegrado = sym.integrate(enintegral,(t,a,b))\n",
    "an = (2/T)*yaintegrado\n",
    "an = sym.simplify(an)\n",
    "\n",
    "# Términos bn para seno\n",
    "enintegral = ft*sym.sin(n*w0*t)\n",
    "yaintegrado = sym.integrate(enintegral,(t,a,b))\n",
    "bn = (2/T)*yaintegrado\n",
    "bn = sym.simplify(bn)"
   ]
  },
  {
   "cell_type": "code",
   "execution_count": 18,
   "metadata": {},
   "outputs": [
    {
     "name": "stdout",
     "output_type": "stream",
     "text": [
      "an = \n",
      "⎧1.27323954473516⋅sin(1.5707963267949⋅n) - 0.636619772367581⋅sin(3.14159265358\n",
      "⎪─────────────────────────────────────────────────────────────────────────────\n",
      "⎨                                         n                                   \n",
      "⎪                                                                             \n",
      "⎩                                         0                                   \n",
      "\n",
      "979⋅n)                                                                        \n",
      "──────  for (n > -∞ ∨ n > 0) ∧ (n > -∞ ∨ n < ∞) ∧ (n > 0 ∨ n < 0) ∧ (n < 0 ∨ n\n",
      "                                                                              \n",
      "                                                                              \n",
      "                                         otherwise                            \n",
      "\n",
      "     \n",
      " < ∞)\n",
      "     \n",
      "     \n",
      "     \n",
      "bn =\n",
      "0\n"
     ]
    }
   ],
   "source": [
    "print('an = ')\n",
    "sym.pprint(an)\n",
    "\n",
    "print('bn =')\n",
    "sym.pprint(bn)\n"
   ]
  },
  {
   "cell_type": "markdown",
   "metadata": {},
   "source": [
    "#### Evaluación de coeficientes\n",
    "\n",
    "* Se evalúan los n coeficientes an y bn, substituyendo en las expresiones los valores en cada índice i."
   ]
  },
  {
   "cell_type": "code",
   "execution_count": 19,
   "metadata": {},
   "outputs": [
    {
     "name": "stdout",
     "output_type": "stream",
     "text": [
      "\n",
      " coeficientes an: \n",
      "[0, 1.27323954473516, 1.55926873300775e-16, -0.424413181578388, 0, 0.254647908\n",
      "947032, 1.55926873300775e-16, -0.181891363533595]\n",
      "\n",
      " coeficientes bn: \n",
      "[0, 0, 0, 0, 0, 0, 0, 0]\n"
     ]
    }
   ],
   "source": [
    "# Evalua los coeficientes\n",
    "a0  = an.subs(n,0)/2\n",
    "b0  = bn.subs(n,0)\n",
    "ani = [a0]\n",
    "bni = [b0]\n",
    "i = 1\n",
    "while not(i >= nCoeficientes):\n",
    "    avalor = an.subs(n,i)\n",
    "    bvalor = bn.subs(n,i)\n",
    "    ani.append(avalor)\n",
    "    bni.append(bvalor)\n",
    "    i = i+1\n",
    "print('\\n coeficientes an: ')\n",
    "sym.pprint(ani)\n",
    "print('\\n coeficientes bn: ')\n",
    "print(bni)"
   ]
  },
  {
   "cell_type": "markdown",
   "metadata": {},
   "source": [
    "#### Expresión de la Serie de Fourier\n",
    "\n",
    "* Encontrados los coeficientes an y bn, se reemplazan en la expresión principal.\n",
    "\n",
    "<center><image src=\"Picture2.PNG\" alt=\"Fourier series main function\"></center>"
   ]
  },
  {
   "cell_type": "code",
   "execution_count": 20,
   "metadata": {},
   "outputs": [
    {
     "name": "stdout",
     "output_type": "stream",
     "text": [
      "\n",
      " serie de Fourier fs(t): \n",
      "1.27323954473516⋅cos(1.0⋅t) + 1.55926873300775e-16⋅cos(2.0⋅t) - 0.424413181578\n",
      "388⋅cos(3.0⋅t) + 0.254647908947032⋅cos(5.0⋅t) + 1.55926873300775e-16⋅cos(6.0⋅t\n",
      ") - 0.181891363533595⋅cos(7.0⋅t)\n"
     ]
    }
   ],
   "source": [
    "# serie de Fourier\n",
    "serieF = a0 + 0*t \n",
    "i = 1\n",
    "while not(i >= nCoeficientes):\n",
    "    serieF = serieF + ani[i]*sym.cos(i*w0*t)\n",
    "    serieF = serieF + bni[i]*sym.sin(i*w0*t)\n",
    "    i = i+1\n",
    "# serie = sym.simplify(serie)\n",
    "\n",
    "print('\\n serie de Fourier fs(t): ')\n",
    "sym.pprint(serieF)"
   ]
  },
  {
   "cell_type": "markdown",
   "metadata": {},
   "source": [
    "#### Gráficas de f(t) y Serie de Fourier\n",
    "\n",
    "* Para comparar la función f(t) con la aproximación en series de Fourier, se usa el intervalo [a,b] con una cantidad de muestras usando la instrucción np.linspace() y guardando el resultado en ti.\n",
    "\n",
    "* Para evaluar los puntos ti en cada expresión, por simplicidad se convierte la expresión de su forma simbólica a numérica lambda, usando sym.lambdify()"
   ]
  },
  {
   "cell_type": "code",
   "execution_count": 21,
   "metadata": {},
   "outputs": [
    {
     "data": {
      "text/plain": [
       "<matplotlib.legend.Legend at 0x28a9be88af0>"
      ]
     },
     "execution_count": 21,
     "metadata": {},
     "output_type": "execute_result"
    },
    {
     "data": {
      "image/png": "[encoded data removed]",
      "text/plain": [
       "<Figure size 640x480 with 1 Axes>"
      ]
     },
     "metadata": {},
     "output_type": "display_data"
    }
   ],
   "source": [
    "# Para evaluación numérica\n",
    "fsn = sym.lambdify(t, serieF)\n",
    "ftn = sym.lambdify(t, ft)\n",
    "\n",
    "# Evaluación para gráfica\n",
    "muestras = 1000\n",
    "ti = np.linspace(a, b, muestras)\n",
    "fi = ftn(ti)\n",
    "fsi = fsn(ti) \n",
    "\n",
    "# SALIDA\n",
    "# Grafica\n",
    "plt.plot(ti, fi, 'black', label = 'f(t)')\n",
    "etiqueta = 'coeficientes = '+ str(nCoeficientes)\n",
    "plt.plot(ti, fsi, 'orange', label = etiqueta)\n",
    "plt.title('Serie de Fourier')\n",
    "plt.xlabel('time(t)')\n",
    "plt.ylabel('Amplitude')\n",
    "plt.legend(loc = \"lower left\")"
   ]
  },
  {
   "cell_type": "markdown",
   "metadata": {},
   "source": [
    "###### Fuente: http://blog.espol.edu.ec/telg1001/series-de-fourier-de-funciones-periodicas-con-python/\n"
   ]
  }
 ],
 "metadata": {
  "kernelspec": {
   "display_name": "Python 3.10.5 64-bit",
   "language": "python",
   "name": "python3"
  },
  "language_info": {
   "codemirror_mode": {
    "name": "ipython",
    "version": 3
   },
   "file_extension": ".py",
   "mimetype": "text/x-python",
   "name": "python",
   "nbconvert_exporter": "python",
   "pygments_lexer": "ipython3",
   "version": "3.10.5"
  },
  "orig_nbformat": 4,
  "vscode": {
   "interpreter": {
    "hash": "df95319d8ce4e1d89f5365ae10992bc1f65da593082b1d264e8f529830ec2f02"
   }
  }
 },
 "nbformat": 4,
 "nbformat_minor": 2
}
